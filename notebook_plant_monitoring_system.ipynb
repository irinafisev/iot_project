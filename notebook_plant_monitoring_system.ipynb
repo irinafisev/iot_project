{
 "cells": [
  {
   "cell_type": "markdown",
   "metadata": {},
   "source": [
    "# Plant Monitoring System  \n",
    "---"
   ]
  },
  {
   "cell_type": "markdown",
   "metadata": {},
   "source": [
    "## Objetivo\n",
    "\n",
    "* Este notebook utiliza sensores de Grove que miden la temperatura, el nivel de humedad y la luminosidad para crear un invernadero monitorizado para controlar que las plantas tengan las mejores condiciones para vivir. Las condiciones son monitoreadas en el stick LED de Grove y el zumbador de Grove. Se genera una alerta si las condiciones valoradas en conjunto no son las adecuadas. También notifica mediante un correo electrónico si una planta está enferma o tiene una plaga.  \n",
    "\n",
    "\n",
    "## Referencias\n",
    "* [Grove water_sensor](https://www.seeedstudio.com/Grove-Water-Sensor.html) \n",
    "* [Grove temperature](https://www.seeedstudio.com/Grove-Temperature-Sensor.html) \n",
    "* [Grove light_sensor](https://www.seeedstudio.com/Grove-Light-Sensor-v1-2-LS06-S-phototransistor.html) \n",
    "* [Grove buzzer](https://www.seeedstudio.com/Grove-buzzer.html)  \n",
    "* [Grove servo](https://www.seeedstudio.com/Grove-Servo-Sensor.html) \n",
    "* [Grove Base Shield V2.0](https://www.seeedstudio.com/Base-Shield-V2.html)   \n",
    "\n",
    "## Última vez que fue revisado\n",
    "* 16 Enero 2022\n",
    "    + Initial version\n",
    "---"
   ]
  },
  {
   "cell_type": "markdown",
   "metadata": {},
   "source": [
    "## Cargar _base_ Overlay"
   ]
  },
  {
   "cell_type": "code",
   "execution_count": 2,
   "metadata": {},
   "outputs": [
    {
     "data": {
      "application/javascript": "\ntry {\nrequire(['notebook/js/codecell'], function(codecell) {\n  codecell.CodeCell.options_default.highlight_modes[\n      'magic_text/x-csrc'] = {'reg':[/^%%microblaze/]};\n  Jupyter.notebook.events.one('kernel_ready.Kernel', function(){\n      Jupyter.notebook.get_cells().map(function(cell){\n          if (cell.cell_type == 'code'){ cell.auto_highlight(); } }) ;\n  });\n});\n} catch (e) {};\n"
     },
     "metadata": {},
     "output_type": "display_data"
    },
    {
     "data": {
      "application/javascript": "\ntry {\nrequire(['notebook/js/codecell'], function(codecell) {\n  codecell.CodeCell.options_default.highlight_modes[\n      'magic_text/x-csrc'] = {'reg':[/^%%pybind11/]};\n  Jupyter.notebook.events.one('kernel_ready.Kernel', function(){\n      Jupyter.notebook.get_cells().map(function(cell){\n          if (cell.cell_type == 'code'){ cell.auto_highlight(); } }) ;\n  });\n});\n} catch (e) {};\n"
     },
     "metadata": {},
     "output_type": "display_data"
    }
   ],
   "source": [
    "from time import sleep\n",
    "\n",
    "from IPython.display import display, HTML\n",
    "from pynq.overlays.base import BaseOverlay\n",
    "from pynq_peripherals import ArduinoSEEEDGroveAdapter\n",
    "\n",
    "base = BaseOverlay('base.bit')"
   ]
  },
  {
   "cell_type": "markdown",
   "metadata": {},
   "source": [
    "## Construcción de la aplicación con Grove Base Shield V2.0 (Arduino)"
   ]
  },
  {
   "cell_type": "markdown",
   "metadata": {},
   "source": [
    "<div class=\"alert alert-box alert-danger\">\n",
    "      \n",
    "    <h4 class=\"alert-heading\">¡Deténgase antes de continuar!   </h4>\n",
    "    <ul>\n",
    "     Asegúrese de haber conectado todos los sensores antes de encender la placa. Si los sensores están conectados mientras la placa está ENCENDIDA, puede hacer que el sistema se apague. Para un uso seguro, puede anotar las conexiones que se muestran a continuación, apagar la placa, hacer las conexiones físicas y volver a encender la placa. </ul>\n",
    "    \n",
    "   <h4 class=\"alert-heading\">Hacer conexiones físicas </h4>\n",
    "    <ul>\n",
    "        <li>Inserte el protector de la base Grove en el conector Arduino de la placa.</li>\n",
    "        <li>Conecte el módulo grove_temperature al conector A1 de Grove Base Shield.</li>\n",
    "        <li>Conecte el módulo grove_light al conector A2 de Grove Base Shield.</li>\n",
    "        <li>Conecte el módulo grove_servo al conector D4 de Grove Base Shield.</li>\n",
    "        <li>Conecte el módulo grove_water_sensor al conector D5 de Grove Base Shield.</li>\n",
    "        <li>Conecte el módulo grove_buzzer al conector D6 de Grove Base Shield.</li>\n",
    "        <li>Conecte el módulo grove_led_stick al conector D7 de Grove Base Shield.</li></ul>\n",
    "</div>"
   ]
  },
  {
   "cell_type": "markdown",
   "metadata": {},
   "source": [
    "![](images/dry_arduino.png)"
   ]
  },
  {
   "cell_type": "markdown",
   "metadata": {},
   "source": [
    "### Configurar el adapter"
   ]
  },
  {
   "cell_type": "code",
   "execution_count": 4,
   "metadata": {},
   "outputs": [],
   "source": [
    "adapter = ArduinoSEEEDGroveAdapter(base.ARDUINO,\n",
    "                                   A1='grove_temperature',\n",
    "                                   A2 = 'grove_light', \n",
    "                                   D4='grove_servo',\n",
    "                                   D5='grove_water_sensor',\n",
    "                                   D6='grove_buzzer',\n",
    "                                   D7='grove_led_stick')"
   ]
  },
  {
   "cell_type": "markdown",
   "metadata": {},
   "source": [
    "### Definir objetos de dispositivo"
   ]
  },
  {
   "cell_type": "code",
   "execution_count": 5,
   "metadata": {},
   "outputs": [],
   "source": [
    "temp_sensor = adapter.A1\n",
    "light_sensor = adapter.A2\n",
    "servo = adapter.D4\n",
    "water_sensor = adapter.D5\n",
    "buzzer = adapter.D6\n",
    "led_stick = adapter.D7"
   ]
  },
  {
   "cell_type": "markdown",
   "metadata": {},
   "source": [
    "### Importar librerías necesarias"
   ]
  },
  {
   "cell_type": "markdown",
   "metadata": {},
   "source": [
    "Importamos las librerías necesarias:"
   ]
  },
  {
   "cell_type": "code",
   "execution_count": 6,
   "metadata": {},
   "outputs": [],
   "source": [
    "import cv2\n",
    "import imutils\n",
    "from PIL import Image, ImageDraw, ImageFont\n",
    "import numpy as np\n",
    "import smtplib\n",
    "import os\n",
    "from email.mime.multipart import MIMEMultipart\n",
    "from email.mime.text import MIMEText\n",
    "from email.mime.image import MIMEImage\n",
    "import paho.mqtt.client as mqtt\n",
    "import json\n",
    "import matplotlib.pyplot as plt\n",
    "import random\n",
    "import time"
   ]
  },
  {
   "cell_type": "markdown",
   "metadata": {},
   "source": [
    "### Definir las funciones"
   ]
  },
  {
   "cell_type": "markdown",
   "metadata": {},
   "source": [
    "Para el funcionamiento del invernadero monitorizado definimos las siguientes funciones."
   ]
  },
  {
   "cell_type": "markdown",
   "metadata": {},
   "source": [
    "Definiremos las funciones que harán funcionar los sensores e interactuar entre ellos, la función que detecta enfermedades en las plantas, la función que envía un correo electrónico entre otras.  \n",
    "* <code>level_conditions_winter()</code> calcula el nivel de condiciones atmosféricas.\n",
    "* <code>led_meter()</code> enciende las luces LED.\n",
    "* <code>enable_buzzer()</code> hace funcionar el zumbador.\n",
    "* <code>open_servo()</code> hace funcionar el servo.\n",
    "* <code>plant_disease_detection</code> detecta si una planta está enferma y calcula el porcentaje de hoja dañada.\n",
    "<div class=\"alert alert-box alert-info\"> A esta función le pasamos una imagen que se pintó artificialmente de antemano con un pincel en blanco en el lugar donde las hojas tienen plagas y enfermedades. Le realizamos un procesado que convierte el follaje de la imagenNuevo a una imagen en blanco y negro y le realizamos procesamiento gaussiano con <code>GaussianBlur()</code> en el follaje de la imagen. Después le pasamos una imagen que tiene pintada la hoja por completo y la convertimos nuevamente en una imagen en blanco y negro y le volvemos a realizar un procesamiento gaussiano.   \n",
    "Para hacer la comparación entre las dos imágenes y calculamos sus diferencias. Nos interesa comparar el área de la imagen con su contorno, por tanto realizamos una detección de bordes con <code>Canny()</code>. \n",
    "Por último, calculamos el área de la zona verde de la hoja, dividimos por el área total y le restamos 100 para calcular el área no sana.</div>  \n",
    "<div></div>\n",
    "* <code>email_disease</code> envía un email cuando se detecta un porcentaje elevado de enfermedad en la planta.\n",
    "* <code>email_summary</code> envía un email cuando se detecta un porcentaje elevado de enfermedad en la planta.\n",
    "* <code>graphics</code> visualiza los gráficos de la temperatura y la luminosidad a tiempo real.\n",
    "* <code>again</code> repite el código necesario para hacer funcionar el monitor de invernadero.\n",
    "* <code>on_connect</code> pone en funcionamiento la conexión a MQTT.\n",
    "* <code>conexion_mqtt</code> hace lo necesario para conectarse con MQTT."
   ]
  },
  {
   "cell_type": "markdown",
   "metadata": {},
   "source": [
    "Funciones de los sensores y la interacción entre ellos:"
   ]
  },
  {
   "cell_type": "code",
   "execution_count": 21,
   "metadata": {},
   "outputs": [],
   "source": [
    "def level_conditions_winter(temperature, dry):\n",
    "    \"\"\"Indicador de idoneidad de las condiciones atmosféricas.\n",
    "    En función de la temperatura y de si la tierra está mojada \n",
    "    o no devuelve un nivel del 1 al 10.\n",
    "    \n",
    "    Parámetros:\n",
    "        temperature: temperatura recogida por el sensor\n",
    "    de temperatura\n",
    "        dry: booleano recogido por el sensor de agua\n",
    "    \n",
    "    Returns:\n",
    "        level: el nivel del 1 al 10\n",
    "    \"\"\"\n",
    "    level = 5\n",
    "    \n",
    "    if 16 <= temperature <= 22:\n",
    "        level += 1\n",
    "        \n",
    "        if 17 <= temperature <= 21:\n",
    "            level += 1\n",
    "            \n",
    "            if 18 <= temperature <= 20:\n",
    "                level += 1\n",
    "                \n",
    "    elif temperature < 18 or temperature > 20:\n",
    "        level -= 1\n",
    "        \n",
    "        if temperature < 17 or temperature > 21:\n",
    "            level -= 1\n",
    "    if dry:\n",
    "        level -= 3\n",
    "        \n",
    "    if not dry:\n",
    "        level += 2\n",
    "        \n",
    "    if level <=0:\n",
    "        level = 1\n",
    "        \n",
    "    else:\n",
    "        pass\n",
    "    \n",
    "    return level\n",
    "    \n",
    "# Rango de colores desde rojo --> amarillo --> verde\n",
    "led_colors = [0xFF0000, 0xF22800, 0xFF3B05, 0xFD8807, 0xFBC709,\n",
    "              0xEBFD07, 0xB1FD07, 0x6BFC08, 0x14FC08, 0x05FF05] \n",
    "\n",
    "def led_meter(level):\n",
    "    \"\"\"Luces led.\n",
    "    En función del nivel de level_conditions_winter las luces\n",
    "    led se encenderán en un rango del 0 al 10 en los colores\n",
    "    de led_colors.\n",
    "    \n",
    "    Parámetros:\n",
    "        level: nivel de la salida de level_conditions_winter\n",
    "    \"\"\"\n",
    "    for i in range(level):\n",
    "        led_stick.set_pixel(i, led_colors[i])\n",
    "        \n",
    "    for j in range(9, level - 1, -1):\n",
    "        led_stick.set_pixel(j, 0)\n",
    "    led_stick.show()\n",
    "\n",
    "\n",
    "def enable_buzzer(level):\n",
    "    \"\"\"Activador de buzzer.\n",
    "    Activa el buzzer cuando el nivel de level_conditions_winter\n",
    "    sea superior a 5.\n",
    "    \n",
    "    Parámetros:\n",
    "        level: nivel de la salida de la función \n",
    "    level_conditions_winter\n",
    "    \"\"\"\n",
    "    if level <= 4:\n",
    "        buzzer.play_note(\"C4\", 1000)\n",
    "        \n",
    "    else:\n",
    "        pass\n",
    "        \n",
    "        \n",
    "def open_servo(temperature,sec,count,count_day,moisture, light):\n",
    "    \"\"\"Abrir servo.\n",
    "    El servo funciona de manera automática si se presiona\n",
    "    el botón 0 (abriéndose cuando haga frío o calor y cerrándose\n",
    "    en caso contrario) y de manera manual cuando se desactive\n",
    "    el modo manual y se abrirá y cerrará con el switch 1.\n",
    "    \n",
    "    Parámetros:\n",
    "        temperature: temperatura recogida por el sensor\n",
    "    de temperatura\n",
    "        sec: secuencias para utilizarlo en la función again\n",
    "        count: contador para utilizarlo en la función again\n",
    "        count_day: contador para utilizarlo en la función again\n",
    "        moisture: booleano que indica si hay humedad o no para\n",
    "    utilizarlo en la función again\n",
    "        light: nivel de luminosidad para utilizarlo en la \n",
    "    función again\n",
    "    \n",
    "    Returns:\n",
    "        sec: secuencias\n",
    "        count: contador\n",
    "        count_day: contador\n",
    "    \"\"\"\n",
    "    if base.buttons[0].read()!=0:\n",
    "        ventilador = True\n",
    "        sleep(2)\n",
    "        \n",
    "        while ventilador:\n",
    "            base.leds[0].on()\n",
    "            sec,count,count_day,temperature, moisture, light = again(sec,count,count_day)\n",
    "            sleep(1)\n",
    "            \n",
    "            if temperature < 18 or temperature > 20:\n",
    "                servo.set_angular_position(180)\n",
    "                \n",
    "            else:\n",
    "                servo.set_angular_position(0)\n",
    "                \n",
    "            if base.buttons[0].read()!=0:\n",
    "                base.leds[0].off()\n",
    "                sleep(2)\n",
    "                ventilador=False\n",
    "                \n",
    "    else:                        \n",
    "        base.leds[0].off()\n",
    "        \n",
    "        if base.switches[1].read()!=1:\n",
    "            servo.set_angular_position(0)\n",
    "            \n",
    "        else:\n",
    "            servo.set_angular_position(180)\n",
    "            \n",
    "    return sec,count,count_day\n",
    "            "
   ]
  },
  {
   "cell_type": "markdown",
   "metadata": {},
   "source": [
    "Función de la detección de plagas:"
   ]
  },
  {
   "cell_type": "code",
   "execution_count": 8,
   "metadata": {},
   "outputs": [],
   "source": [
    "def plant_disease_detection(path1, path2, count):\n",
    "    \"\"\"Detector de plagas en plantas.\n",
    "    Mediante un preprocesado de imágenes consigue dar un \n",
    "    porcentaje del daño provocado por plagas y enfermedades. \n",
    "    Requiere de dos imágenes de la hoja de la planta: una \n",
    "    con la zona enferma pintada en blanco previamente y otra\n",
    "    con la hoja pintada en blanco por completo.\n",
    "    Utiliza las librerías cv2, imutils, Image, ImageDraw,\n",
    "    ImageFont y numpy. \n",
    "    \n",
    "    Parámetros:\n",
    "        path1: directorio de la foto de la imagen con \n",
    "    la zona enferma pintada en blanco previamente.\n",
    "        path2: directorio de la foto de la imagen con \n",
    "    la hoja pintada en blanco previamente.\n",
    "        count: contador de las veces que se ha ejecutado \n",
    "    la función. Servirá para solo detectar la enfermedad una vez.\n",
    "    \n",
    "    Returns:\n",
    "        scale: porcentaje de planta enferma\n",
    "        count: contador de veces que se ha ejecutado la función\n",
    "    \"\"\"\n",
    "    count = count + 1\n",
    "    \n",
    "    PSpicture = cv2.imread(path1)\n",
    "    PSpicture = cv2.cvtColor(PSpicture, cv2.COLOR_BGR2GRAY)\n",
    "    PSpictureGS = cv2.GaussianBlur(PSpicture, (21, 21), 0)\n",
    "    originalPicture = cv2.imread(path2)\n",
    "    originalPicture = cv2.cvtColor(originalPicture, cv2.COLOR_BGR2GRAY)\n",
    "    originalPictureGS = cv2.GaussianBlur(originalPicture, (21, 21), 0)\n",
    "    pictureDelta = cv2.absdiff(PSpictureGS, originalPictureGS)\n",
    "    \n",
    "    x, y = pictureDelta.shape\n",
    "\n",
    "    img = cv2.GaussianBlur(pictureDelta, (3, 3), 0)\n",
    "    canny = cv2.Canny(img, 0, 100)\n",
    "\n",
    "    LeafArea = 0\n",
    "    greenLeafArea = 0\n",
    "    distinguishLeaf = []\n",
    "\n",
    "    for i in range(x):\n",
    "        for j in range(y): \n",
    "            distinguishLeaf.append([i, j])\n",
    "\n",
    "    for t in distinguishLeaf: \n",
    "        k, l = t\n",
    "        LeafArea = LeafArea + 1\n",
    "        if img[k, l] != 0:\n",
    "            greenLeafArea += 1\n",
    "\n",
    "    scale = 100 - (greenLeafArea/LeafArea)*100\n",
    "\n",
    "    return scale, count\n",
    "    "
   ]
  },
  {
   "cell_type": "markdown",
   "metadata": {},
   "source": [
    "Función para mandar un correo en caso de enfermedad en plantas:"
   ]
  },
  {
   "cell_type": "code",
   "execution_count": 9,
   "metadata": {},
   "outputs": [],
   "source": [
    "def email_disease(porcentaje, ImgFileName):\n",
    "    \"\"\"Enviar correo electrónico.\n",
    "    Si el porcentaje de la planta enferma supera el 30% entonces\n",
    "    se enviará un correo electrónico notificándolo. Necesita la\n",
    "    librería smtplib, os, MIMEMultipart, MIMEText y MIMEImage.\n",
    "    \n",
    "    Parámetros:\n",
    "        porcentaje: es el porcentaje de planta enferma que\n",
    "    sale de la función detectar_plagas.\n",
    "        ImgFileName: es el path de la imagen de la planta \n",
    "    enferma\n",
    "    \"\"\"\n",
    "    if porcentaje > 30:\n",
    "        print(\"Plaga detectada! Enviando correo...\")\n",
    "        img_data = open(ImgFileName, 'rb').read()\n",
    "        msg = MIMEMultipart()\n",
    "        msg['Subject'] = 'Advertencia del invernadero'\n",
    "        msg['From'] = 'su_correo'\n",
    "        msg['To'] = 'correo_destino'\n",
    "        \n",
    "\n",
    "        text = MIMEText(\"Las hojas estan danyadas por plagas y enfermedades. El porcentaje de la superficie foliar de plagas y enfermedades es: \" + str (round(porcentaje,2)) + '%')\n",
    "        msg.attach(text)\n",
    "        image = MIMEImage(img_data, name=os.path.basename(ImgFileName))\n",
    "        msg.attach(image)\n",
    "\n",
    "        s = smtplib.SMTP_SSL(\"smtp.gmail.com\", 465)\n",
    "\n",
    "        s.login(\"su_correo\",\"password\")\n",
    "        s.sendmail('esu_correo', 'correo_destino', msg.as_string())\n",
    "        s.quit()\n",
    "        print(\"Enviado!\")\n",
    "        \n",
    "    else:\n",
    "        pass\n",
    "    "
   ]
  },
  {
   "cell_type": "markdown",
   "metadata": {},
   "source": [
    "Función para enviar un correo con un resumen del día:"
   ]
  },
  {
   "cell_type": "code",
   "execution_count": 28,
   "metadata": {},
   "outputs": [],
   "source": [
    "def email_summary(count_day):\n",
    "    \"\"\"Envia un correo al final del día con un resumen del \n",
    "    estado del invernadero.\n",
    "    \n",
    "    Parámetros:\n",
    "        count_day: contador de veces que se ha ejecutado \n",
    "    la función.\n",
    "    \n",
    "    Returns:\n",
    "        count_day: parámetro que indica que se ha ejecutado\n",
    "    la función.\n",
    "    \"\"\"\n",
    "    ImgFileName='graficas.png'\n",
    "    count_day += 1\n",
    "    print(\"Fin del día... Generando resumen...\")\n",
    "    print(\"Enviando correo...\")\n",
    "    \n",
    "    img_data = open(ImgFileName, 'rb').read()\n",
    "    msg = MIMEMultipart()\n",
    "    msg['Subject'] = 'Resumen del dia de tu invernadero'\n",
    "    msg['From'] = 'su_correo'\n",
    "    msg['To'] = 'correo_destino'\n",
    "    \n",
    "    agua = round(np.mean(list_moist),2)\n",
    "    if agua > 0.5:\n",
    "        agua=\"sus plantas necesitan ser regadas\"\n",
    "    else:\n",
    "        agua=\"sus plantas están en buen estado\"\n",
    "\n",
    "    horas = 0\n",
    "    for i in list_light:\n",
    "        if i > 50:\n",
    "            horas += 1\n",
    "        else:\n",
    "            pass\n",
    "    \n",
    "    text = MIMEText(\"Este es un resumen de las condiciones de tus plantas en el invernadero. Temperatura media: \" \n",
    "                    + str(round(np.mean(list_temp),2)) + \", luminosidad media: \" \n",
    "                    + str(round(np.mean(list_light),2)) + \", horas de luz durante el día: \" + str(horas) +  \", necesidad de riego: \" \n",
    "                   + agua + \"  nivel promedio: \" + str(int(round(np.mean(list_level),2))) + \" (recuerde que 1 es el peor nivel y 10 es el mejor nivel).\"\n",
    "                   )\n",
    "\n",
    "    msg.attach(text)\n",
    "    image = MIMEImage(img_data, name=os.path.basename(ImgFileName))\n",
    "    msg.attach(image)\n",
    "\n",
    "    s = smtplib.SMTP_SSL(\"smtp.gmail.com\", 465)\n",
    "\n",
    "    s.login(\"su_correo\",\"password\")\n",
    "    s.sendmail('su_correo', 'correo_destino', msg.as_string())\n",
    "    s.quit()\n",
    "    print(\"Enviado!\")\n",
    "    return count_day\n"
   ]
  },
  {
   "cell_type": "markdown",
   "metadata": {},
   "source": [
    "Función para gráficas:"
   ]
  },
  {
   "cell_type": "code",
   "execution_count": 11,
   "metadata": {},
   "outputs": [],
   "source": [
    "def graphics(fig, axis, sec, list_sec, temperature, list_temp, light, list_light):\n",
    "    \"\"\"Visualización de gráficos.\n",
    "    Visualiza a tiempo real la temperatura y el nivel de \n",
    "    luminosidad y lo guarda en un formato .png\n",
    "    \n",
    "    Parámetros:\n",
    "        fig: figura del plot\n",
    "        axis: ejes del plot\n",
    "        sec: secuencias para dibujar el gráfico\n",
    "        list_sec: lista de secuencias\n",
    "        temperature: temperatura actual\n",
    "        list_temp: lista de todas las temperaturas tomadas\n",
    "        light: luminosidad actual\n",
    "        list_light: lista de todas las luminosidades\n",
    "    \"\"\"\n",
    "\n",
    "    fig.canvas.draw()\n",
    "    fig.show()\n",
    "         \n",
    "    axis[0].plot(list_sec[-1], list_temp[-1], \"bo\", color=\"navy\")\n",
    "    axis[0].plot(list_sec, list_temp, color = \"royalblue\")\n",
    "    axis[0].set_title(\"Temperatura\")\n",
    "\n",
    "    # For Cosine Function\n",
    "    axis[1].plot(list_sec[-1], list_light[-1], \"bo\", color=\"darkgoldenrod\")\n",
    "    axis[1].plot(list_sec, list_light, color=\"gold\")\n",
    "    axis[1].set_title(\"Luminosidad en %\")\n",
    "    \n",
    "    fig.savefig('graficas.png')"
   ]
  },
  {
   "cell_type": "markdown",
   "metadata": {},
   "source": [
    "Función para repetir los datos recogidos por los sensores:"
   ]
  },
  {
   "cell_type": "code",
   "execution_count": 14,
   "metadata": {},
   "outputs": [],
   "source": [
    "def again(sec,count,count_day):\n",
    "    \"\"\"Función para repetir la interacción de los sensores.\n",
    "    Sirve para repetir el funcionamiento de la base del \n",
    "    monitor de invernadero.\n",
    "    \n",
    "    Parámetros:\n",
    "        sec: secuencias para dibujar los gráficos\n",
    "        count: contador que determina si se pasa por la\n",
    "    función de detección de plagas\n",
    "        count_day: contador que determina si se pasa por la \n",
    "    función de enviar correo resumen\n",
    "    \"\"\"\n",
    "    sec+=1\n",
    "\n",
    "    temperature = round(temp_sensor.get_temperature()- 23, 2) \n",
    "    moisture = water_sensor.is_dry()\n",
    "    light = round(light_sensor.get_intensity(), 2)\n",
    "    list_sec.append(sec)\n",
    "    list_temp.append(temperature)\n",
    "    list_light.append(light)\n",
    "    list_moist.append(int(moisture))\n",
    "\n",
    "    #LED\n",
    "    level = level_conditions_winter(temperature, moisture)\n",
    "    list_level.append(level)\n",
    "    led_meter(level)\n",
    "    \n",
    "    #Buzzer\n",
    "    enable_buzzer(level)\n",
    "    \n",
    "    #Detección de enfermedades e-mail\n",
    "    if count == 0:\n",
    "        path1 = \"./fotos/enfermas/6f27be21b8229911b9075e4bb7576473.png\"\n",
    "        path2 = \"./fotos/enfermas/08b287a26fecf5b35d4db593f1f5674c.png\"\n",
    "        porcentaje, count = plant_disease_detection(path1, path2, count)\n",
    "        email_disease(porcentaje, path1)\n",
    "    \n",
    "    #MQTT\n",
    "    #Temperatura\n",
    "    mqg_temperatura = json.dumps({\"temperatura\":temperature})\n",
    "    client.publish(\"pynq_iot_temperatura\", mqg_temperatura, qos=0, retain=False)\n",
    "    client.loop()\n",
    "    \n",
    "    #Luz\n",
    "    mqg_luz = json.dumps({\"luz\":light})\n",
    "    client.publish(\"pynq_iot_luz\", mqg_luz, qos=0, retain=False)\n",
    "    client.loop()\n",
    "    \n",
    "    #Agua\n",
    "    if moisture == True:\n",
    "        texto_agua = \"Seco\"\n",
    "    else:\n",
    "        texto_agua = \"Mojado\"\n",
    "    mqg_agua = json.dumps({\"agua\":texto_agua})\n",
    "    client.publish(\"pynq_iot_agua\", mqg_agua, qos=0, retain=False)\n",
    "    client.loop()\n",
    "    \n",
    "    #Level\n",
    "    mqg_level = json.dumps({\"level\":level})\n",
    "    client.publish(\"pynq_iot_level\", mqg_level, qos=0, retain=False)\n",
    "    client.loop()\n",
    "    \n",
    "    #Gráficas\n",
    "    graphics(fig, axis, sec, list_sec, temperature, list_temp, light, list_light)\n",
    "    \n",
    "    #Correo final\n",
    "    actual = time.time()\n",
    "    if actual-start > 60 and count_day == 0:\n",
    "        count_day = email_summary(count_day)\n",
    "        \n",
    "    \n",
    "\n",
    "    sleep(0.8)\n",
    "    return sec,count,count_day,temperature, moisture, light"
   ]
  },
  {
   "cell_type": "markdown",
   "metadata": {},
   "source": [
    "Función para realizar las conexiones con MQTT Dash:"
   ]
  },
  {
   "cell_type": "code",
   "execution_count": 15,
   "metadata": {},
   "outputs": [],
   "source": [
    "def on_connect (client, userdata, flags, rc):\n",
    "    if rc == 0:\n",
    "        client.connected_flag = True\n",
    "        print (\"Connected OK\")\n",
    "        return\n",
    "    \n",
    "    print (\"Failed to connect to %s, error was, rc=%s\" % rc)\n",
    "    sys.exit (-1)\n",
    "    \n",
    "def conexion_mqtt():\n",
    "    host          = \"node02.myqtthub.com\"\n",
    "    port          = 1883\n",
    "    clean_session = True\n",
    "    client_id     = \"lab_iot\"\n",
    "    user_name     = \"dsdc_iot_mqtt\"\n",
    "    password      = \"TesT!2120\"\n",
    "\n",
    "    # Create MQTT client with clientId, host, user and password\n",
    "    client = mqtt.Client (client_id = client_id, clean_session = clean_session)\n",
    "    client.username_pw_set (user_name, password)\n",
    "\n",
    "    # Set events\n",
    "    client.on_connect = on_connect\n",
    "\n",
    "    # Connect using standard unsecure MQTT with keepalive to 60\n",
    "    client.connect (host, port, keepalive = 60)\n",
    "    client.connected_flag = False\n",
    "    while not client.connected_flag: #wait in loop\n",
    "        client.loop()\n",
    "        sleep (1)   \n",
    "    return client"
   ]
  },
  {
   "cell_type": "markdown",
   "metadata": {},
   "source": [
    "<div class=\"alert alert-box alert-info\">\n",
    "   <h4 class=\"alert-heading\">Notas antes de ejecutar la siguiente celda </h4>\n",
    "    <ul>\n",
    "        <li> El interruptor de palanca SW0 en la placa PYNQ-Z2 se usa para habilitar o deshabilitar el monitor de invernadero.</li>\n",
    "        <li> El interruptor de palanca SW1 en la placa PYNQ-Z2 se usa para abrir o cerrar el servo que hace la función de aire acondicionado.</li>\n",
    "        <li> El botón BTN0 en la placa PYNQ-Z2 se usa para automatizar el servo en función de la temperatura.Para activarlo mantener pulsado hasta que se ilumine la luz del botón.</li>\n",
    "        <li> Si el botón BTN0 está activado el interruptor de palanca SW1 no podrá ser utilizado.</li>\n",
    "        <li> Dado que el sensor de agua está comprobando la humedad del suelo, si el sensor está seco y la temperatura está fuera de los límites establecidos como óptimos, el zumbador se encenderá tan pronto como haga funcionar la celda.</li>\n",
    "        <li> Puede usar un pañuelo húmedo y colocarlo en el sensor de agua con buen contacto para simular la humedad del suelo.</li>\n",
    "        <li> El sensor de temperatura es lo suficientemente sensible para medir el cambio cuando se coloca un dedo sobre él.</li>\n",
    "        <li> Para apagar el monitor es necesario desactivar el servo del modo automático. </li>\n",
    "    </ul>\n",
    "</div>"
   ]
  },
  {
   "cell_type": "markdown",
   "metadata": {},
   "source": [
    "## Monitor de invernadero"
   ]
  },
  {
   "cell_type": "markdown",
   "metadata": {},
   "source": [
    "Para poner en funcionamiento el monitor de invernadero, ejecute la siguiente celda:"
   ]
  },
  {
   "cell_type": "code",
   "execution_count": 29,
   "metadata": {
    "scrolled": false
   },
   "outputs": [
    {
     "name": "stdout",
     "output_type": "stream",
     "text": [
      "Connected OK\n"
     ]
    },
    {
     "data": {
      "application/javascript": "/* Put everything inside the global mpl namespace */\nwindow.mpl = {};\n\n\nmpl.get_websocket_type = function() {\n    if (typeof(WebSocket) !== 'undefined') {\n        return WebSocket;\n    } else if (typeof(MozWebSocket) !== 'undefined') {\n        return MozWebSocket;\n    } else {\n        alert('Your browser does not have WebSocket support.' +\n              'Please try Chrome, Safari or Firefox ≥ 6. ' +\n              'Firefox 4 and 5 are also supported but you ' +\n              'have to enable WebSockets in about:config.');\n    };\n}\n\nmpl.figure = function(figure_id, websocket, ondownload, parent_element) {\n    this.id = figure_id;\n\n    this.ws = websocket;\n\n    this.supports_binary = (this.ws.binaryType != undefined);\n\n    if (!this.supports_binary) {\n        var warnings = document.getElementById(\"mpl-warnings\");\n        if (warnings) {\n            warnings.style.display = 'block';\n            warnings.textContent = (\n                \"This browser does not support binary websocket messages. \" +\n                    \"Performance may be slow.\");\n        }\n    }\n\n    this.imageObj = new Image();\n\n    this.context = undefined;\n    this.message = undefined;\n    this.canvas = undefined;\n    this.rubberband_canvas = undefined;\n    this.rubberband_context = undefined;\n    this.format_dropdown = undefined;\n\n    this.image_mode = 'full';\n\n    this.root = $('<div/>');\n    this._root_extra_style(this.root)\n    this.root.attr('style', 'display: inline-block');\n\n    $(parent_element).append(this.root);\n\n    this._init_header(this);\n    this._init_canvas(this);\n    this._init_toolbar(this);\n\n    var fig = this;\n\n    this.waiting = false;\n\n    this.ws.onopen =  function () {\n            fig.send_message(\"supports_binary\", {value: fig.supports_binary});\n            fig.send_message(\"send_image_mode\", {});\n            if (mpl.ratio != 1) {\n                fig.send_message(\"set_dpi_ratio\", {'dpi_ratio': mpl.ratio});\n            }\n            fig.send_message(\"refresh\", {});\n        }\n\n    this.imageObj.onload = function() {\n            if (fig.image_mode == 'full') {\n                // Full images could contain transparency (where diff images\n                // almost always do), so we need to clear the canvas so that\n                // there is no ghosting.\n                fig.context.clearRect(0, 0, fig.canvas.width, fig.canvas.height);\n            }\n            fig.context.drawImage(fig.imageObj, 0, 0);\n        };\n\n    this.imageObj.onunload = function() {\n        fig.ws.close();\n    }\n\n    this.ws.onmessage = this._make_on_message_function(this);\n\n    this.ondownload = ondownload;\n}\n\nmpl.figure.prototype._init_header = function() {\n    var titlebar = $(\n        '<div class=\"ui-dialog-titlebar ui-widget-header ui-corner-all ' +\n        'ui-helper-clearfix\"/>');\n    var titletext = $(\n        '<div class=\"ui-dialog-title\" style=\"width: 100%; ' +\n        'text-align: center; padding: 3px;\"/>');\n    titlebar.append(titletext)\n    this.root.append(titlebar);\n    this.header = titletext[0];\n}\n\n\n\nmpl.figure.prototype._canvas_extra_style = function(canvas_div) {\n\n}\n\n\nmpl.figure.prototype._root_extra_style = function(canvas_div) {\n\n}\n\nmpl.figure.prototype._init_canvas = function() {\n    var fig = this;\n\n    var canvas_div = $('<div/>');\n\n    canvas_div.attr('style', 'position: relative; clear: both; outline: 0');\n\n    function canvas_keyboard_event(event) {\n        return fig.key_event(event, event['data']);\n    }\n\n    canvas_div.keydown('key_press', canvas_keyboard_event);\n    canvas_div.keyup('key_release', canvas_keyboard_event);\n    this.canvas_div = canvas_div\n    this._canvas_extra_style(canvas_div)\n    this.root.append(canvas_div);\n\n    var canvas = $('<canvas/>');\n    canvas.addClass('mpl-canvas');\n    canvas.attr('style', \"left: 0; top: 0; z-index: 0; outline: 0\")\n\n    this.canvas = canvas[0];\n    this.context = canvas[0].getContext(\"2d\");\n\n    var backingStore = this.context.backingStorePixelRatio ||\n\tthis.context.webkitBackingStorePixelRatio ||\n\tthis.context.mozBackingStorePixelRatio ||\n\tthis.context.msBackingStorePixelRatio ||\n\tthis.context.oBackingStorePixelRatio ||\n\tthis.context.backingStorePixelRatio || 1;\n\n    mpl.ratio = (window.devicePixelRatio || 1) / backingStore;\n\n    var rubberband = $('<canvas/>');\n    rubberband.attr('style', \"position: absolute; left: 0; top: 0; z-index: 1;\")\n\n    var pass_mouse_events = true;\n\n    canvas_div.resizable({\n        start: function(event, ui) {\n            pass_mouse_events = false;\n        },\n        resize: function(event, ui) {\n            fig.request_resize(ui.size.width, ui.size.height);\n        },\n        stop: function(event, ui) {\n            pass_mouse_events = true;\n            fig.request_resize(ui.size.width, ui.size.height);\n        },\n    });\n\n    function mouse_event_fn(event) {\n        if (pass_mouse_events)\n            return fig.mouse_event(event, event['data']);\n    }\n\n    rubberband.mousedown('button_press', mouse_event_fn);\n    rubberband.mouseup('button_release', mouse_event_fn);\n    // Throttle sequential mouse events to 1 every 20ms.\n    rubberband.mousemove('motion_notify', mouse_event_fn);\n\n    rubberband.mouseenter('figure_enter', mouse_event_fn);\n    rubberband.mouseleave('figure_leave', mouse_event_fn);\n\n    canvas_div.on(\"wheel\", function (event) {\n        event = event.originalEvent;\n        event['data'] = 'scroll'\n        if (event.deltaY < 0) {\n            event.step = 1;\n        } else {\n            event.step = -1;\n        }\n        mouse_event_fn(event);\n    });\n\n    canvas_div.append(canvas);\n    canvas_div.append(rubberband);\n\n    this.rubberband = rubberband;\n    this.rubberband_canvas = rubberband[0];\n    this.rubberband_context = rubberband[0].getContext(\"2d\");\n    this.rubberband_context.strokeStyle = \"#000000\";\n\n    this._resize_canvas = function(width, height) {\n        // Keep the size of the canvas, canvas container, and rubber band\n        // canvas in synch.\n        canvas_div.css('width', width)\n        canvas_div.css('height', height)\n\n        canvas.attr('width', width * mpl.ratio);\n        canvas.attr('height', height * mpl.ratio);\n        canvas.attr('style', 'width: ' + width + 'px; height: ' + height + 'px;');\n\n        rubberband.attr('width', width);\n        rubberband.attr('height', height);\n    }\n\n    // Set the figure to an initial 600x600px, this will subsequently be updated\n    // upon first draw.\n    this._resize_canvas(600, 600);\n\n    // Disable right mouse context menu.\n    $(this.rubberband_canvas).bind(\"contextmenu\",function(e){\n        return false;\n    });\n\n    function set_focus () {\n        canvas.focus();\n        canvas_div.focus();\n    }\n\n    window.setTimeout(set_focus, 100);\n}\n\nmpl.figure.prototype._init_toolbar = function() {\n    var fig = this;\n\n    var nav_element = $('<div/>')\n    nav_element.attr('style', 'width: 100%');\n    this.root.append(nav_element);\n\n    // Define a callback function for later on.\n    function toolbar_event(event) {\n        return fig.toolbar_button_onclick(event['data']);\n    }\n    function toolbar_mouse_event(event) {\n        return fig.toolbar_button_onmouseover(event['data']);\n    }\n\n    for(var toolbar_ind in mpl.toolbar_items) {\n        var name = mpl.toolbar_items[toolbar_ind][0];\n        var tooltip = mpl.toolbar_items[toolbar_ind][1];\n        var image = mpl.toolbar_items[toolbar_ind][2];\n        var method_name = mpl.toolbar_items[toolbar_ind][3];\n\n        if (!name) {\n            // put a spacer in here.\n            continue;\n        }\n        var button = $('<button/>');\n        button.addClass('ui-button ui-widget ui-state-default ui-corner-all ' +\n                        'ui-button-icon-only');\n        button.attr('role', 'button');\n        button.attr('aria-disabled', 'false');\n        button.click(method_name, toolbar_event);\n        button.mouseover(tooltip, toolbar_mouse_event);\n\n        var icon_img = $('<span/>');\n        icon_img.addClass('ui-button-icon-primary ui-icon');\n        icon_img.addClass(image);\n        icon_img.addClass('ui-corner-all');\n\n        var tooltip_span = $('<span/>');\n        tooltip_span.addClass('ui-button-text');\n        tooltip_span.html(tooltip);\n\n        button.append(icon_img);\n        button.append(tooltip_span);\n\n        nav_element.append(button);\n    }\n\n    var fmt_picker_span = $('<span/>');\n\n    var fmt_picker = $('<select/>');\n    fmt_picker.addClass('mpl-toolbar-option ui-widget ui-widget-content');\n    fmt_picker_span.append(fmt_picker);\n    nav_element.append(fmt_picker_span);\n    this.format_dropdown = fmt_picker[0];\n\n    for (var ind in mpl.extensions) {\n        var fmt = mpl.extensions[ind];\n        var option = $(\n            '<option/>', {selected: fmt === mpl.default_extension}).html(fmt);\n        fmt_picker.append(option)\n    }\n\n    // Add hover states to the ui-buttons\n    $( \".ui-button\" ).hover(\n        function() { $(this).addClass(\"ui-state-hover\");},\n        function() { $(this).removeClass(\"ui-state-hover\");}\n    );\n\n    var status_bar = $('<span class=\"mpl-message\"/>');\n    nav_element.append(status_bar);\n    this.message = status_bar[0];\n}\n\nmpl.figure.prototype.request_resize = function(x_pixels, y_pixels) {\n    // Request matplotlib to resize the figure. Matplotlib will then trigger a resize in the client,\n    // which will in turn request a refresh of the image.\n    this.send_message('resize', {'width': x_pixels, 'height': y_pixels});\n}\n\nmpl.figure.prototype.send_message = function(type, properties) {\n    properties['type'] = type;\n    properties['figure_id'] = this.id;\n    this.ws.send(JSON.stringify(properties));\n}\n\nmpl.figure.prototype.send_draw_message = function() {\n    if (!this.waiting) {\n        this.waiting = true;\n        this.ws.send(JSON.stringify({type: \"draw\", figure_id: this.id}));\n    }\n}\n\n\nmpl.figure.prototype.handle_save = function(fig, msg) {\n    var format_dropdown = fig.format_dropdown;\n    var format = format_dropdown.options[format_dropdown.selectedIndex].value;\n    fig.ondownload(fig, format);\n}\n\n\nmpl.figure.prototype.handle_resize = function(fig, msg) {\n    var size = msg['size'];\n    if (size[0] != fig.canvas.width || size[1] != fig.canvas.height) {\n        fig._resize_canvas(size[0], size[1]);\n        fig.send_message(\"refresh\", {});\n    };\n}\n\nmpl.figure.prototype.handle_rubberband = function(fig, msg) {\n    var x0 = msg['x0'] / mpl.ratio;\n    var y0 = (fig.canvas.height - msg['y0']) / mpl.ratio;\n    var x1 = msg['x1'] / mpl.ratio;\n    var y1 = (fig.canvas.height - msg['y1']) / mpl.ratio;\n    x0 = Math.floor(x0) + 0.5;\n    y0 = Math.floor(y0) + 0.5;\n    x1 = Math.floor(x1) + 0.5;\n    y1 = Math.floor(y1) + 0.5;\n    var min_x = Math.min(x0, x1);\n    var min_y = Math.min(y0, y1);\n    var width = Math.abs(x1 - x0);\n    var height = Math.abs(y1 - y0);\n\n    fig.rubberband_context.clearRect(\n        0, 0, fig.canvas.width, fig.canvas.height);\n\n    fig.rubberband_context.strokeRect(min_x, min_y, width, height);\n}\n\nmpl.figure.prototype.handle_figure_label = function(fig, msg) {\n    // Updates the figure title.\n    fig.header.textContent = msg['label'];\n}\n\nmpl.figure.prototype.handle_cursor = function(fig, msg) {\n    var cursor = msg['cursor'];\n    switch(cursor)\n    {\n    case 0:\n        cursor = 'pointer';\n        break;\n    case 1:\n        cursor = 'default';\n        break;\n    case 2:\n        cursor = 'crosshair';\n        break;\n    case 3:\n        cursor = 'move';\n        break;\n    }\n    fig.rubberband_canvas.style.cursor = cursor;\n}\n\nmpl.figure.prototype.handle_message = function(fig, msg) {\n    fig.message.textContent = msg['message'];\n}\n\nmpl.figure.prototype.handle_draw = function(fig, msg) {\n    // Request the server to send over a new figure.\n    fig.send_draw_message();\n}\n\nmpl.figure.prototype.handle_image_mode = function(fig, msg) {\n    fig.image_mode = msg['mode'];\n}\n\nmpl.figure.prototype.updated_canvas_event = function() {\n    // Called whenever the canvas gets updated.\n    this.send_message(\"ack\", {});\n}\n\n// A function to construct a web socket function for onmessage handling.\n// Called in the figure constructor.\nmpl.figure.prototype._make_on_message_function = function(fig) {\n    return function socket_on_message(evt) {\n        if (evt.data instanceof Blob) {\n            /* FIXME: We get \"Resource interpreted as Image but\n             * transferred with MIME type text/plain:\" errors on\n             * Chrome.  But how to set the MIME type?  It doesn't seem\n             * to be part of the websocket stream */\n            evt.data.type = \"image/png\";\n\n            /* Free the memory for the previous frames */\n            if (fig.imageObj.src) {\n                (window.URL || window.webkitURL).revokeObjectURL(\n                    fig.imageObj.src);\n            }\n\n            fig.imageObj.src = (window.URL || window.webkitURL).createObjectURL(\n                evt.data);\n            fig.updated_canvas_event();\n            fig.waiting = false;\n            return;\n        }\n        else if (typeof evt.data === 'string' && evt.data.slice(0, 21) == \"data:image/png;base64\") {\n            fig.imageObj.src = evt.data;\n            fig.updated_canvas_event();\n            fig.waiting = false;\n            return;\n        }\n\n        var msg = JSON.parse(evt.data);\n        var msg_type = msg['type'];\n\n        // Call the  \"handle_{type}\" callback, which takes\n        // the figure and JSON message as its only arguments.\n        try {\n            var callback = fig[\"handle_\" + msg_type];\n        } catch (e) {\n            console.log(\"No handler for the '\" + msg_type + \"' message type: \", msg);\n            return;\n        }\n\n        if (callback) {\n            try {\n                // console.log(\"Handling '\" + msg_type + \"' message: \", msg);\n                callback(fig, msg);\n            } catch (e) {\n                console.log(\"Exception inside the 'handler_\" + msg_type + \"' callback:\", e, e.stack, msg);\n            }\n        }\n    };\n}\n\n// from http://stackoverflow.com/questions/1114465/getting-mouse-location-in-canvas\nmpl.findpos = function(e) {\n    //this section is from http://www.quirksmode.org/js/events_properties.html\n    var targ;\n    if (!e)\n        e = window.event;\n    if (e.target)\n        targ = e.target;\n    else if (e.srcElement)\n        targ = e.srcElement;\n    if (targ.nodeType == 3) // defeat Safari bug\n        targ = targ.parentNode;\n\n    // jQuery normalizes the pageX and pageY\n    // pageX,Y are the mouse positions relative to the document\n    // offset() returns the position of the element relative to the document\n    var x = e.pageX - $(targ).offset().left;\n    var y = e.pageY - $(targ).offset().top;\n\n    return {\"x\": x, \"y\": y};\n};\n\n/*\n * return a copy of an object with only non-object keys\n * we need this to avoid circular references\n * http://stackoverflow.com/a/24161582/3208463\n */\nfunction simpleKeys (original) {\n  return Object.keys(original).reduce(function (obj, key) {\n    if (typeof original[key] !== 'object')\n        obj[key] = original[key]\n    return obj;\n  }, {});\n}\n\nmpl.figure.prototype.mouse_event = function(event, name) {\n    var canvas_pos = mpl.findpos(event)\n\n    if (name === 'button_press')\n    {\n        this.canvas.focus();\n        this.canvas_div.focus();\n    }\n\n    var x = canvas_pos.x * mpl.ratio;\n    var y = canvas_pos.y * mpl.ratio;\n\n    this.send_message(name, {x: x, y: y, button: event.button,\n                             step: event.step,\n                             guiEvent: simpleKeys(event)});\n\n    /* This prevents the web browser from automatically changing to\n     * the text insertion cursor when the button is pressed.  We want\n     * to control all of the cursor setting manually through the\n     * 'cursor' event from matplotlib */\n    event.preventDefault();\n    return false;\n}\n\nmpl.figure.prototype._key_event_extra = function(event, name) {\n    // Handle any extra behaviour associated with a key event\n}\n\nmpl.figure.prototype.key_event = function(event, name) {\n\n    // Prevent repeat events\n    if (name == 'key_press')\n    {\n        if (event.which === this._key)\n            return;\n        else\n            this._key = event.which;\n    }\n    if (name == 'key_release')\n        this._key = null;\n\n    var value = '';\n    if (event.ctrlKey && event.which != 17)\n        value += \"ctrl+\";\n    if (event.altKey && event.which != 18)\n        value += \"alt+\";\n    if (event.shiftKey && event.which != 16)\n        value += \"shift+\";\n\n    value += 'k';\n    value += event.which.toString();\n\n    this._key_event_extra(event, name);\n\n    this.send_message(name, {key: value,\n                             guiEvent: simpleKeys(event)});\n    return false;\n}\n\nmpl.figure.prototype.toolbar_button_onclick = function(name) {\n    if (name == 'download') {\n        this.handle_save(this, null);\n    } else {\n        this.send_message(\"toolbar_button\", {name: name});\n    }\n};\n\nmpl.figure.prototype.toolbar_button_onmouseover = function(tooltip) {\n    this.message.textContent = tooltip;\n};\nmpl.toolbar_items = [[\"Home\", \"Reset original view\", \"fa fa-home icon-home\", \"home\"], [\"Back\", \"Back to  previous view\", \"fa fa-arrow-left icon-arrow-left\", \"back\"], [\"Forward\", \"Forward to next view\", \"fa fa-arrow-right icon-arrow-right\", \"forward\"], [\"\", \"\", \"\", \"\"], [\"Pan\", \"Pan axes with left mouse, zoom with right\", \"fa fa-arrows icon-move\", \"pan\"], [\"Zoom\", \"Zoom to rectangle\", \"fa fa-square-o icon-check-empty\", \"zoom\"], [\"\", \"\", \"\", \"\"], [\"Download\", \"Download plot\", \"fa fa-floppy-o icon-save\", \"download\"]];\n\nmpl.extensions = [\"eps\", \"jpeg\", \"pdf\", \"png\", \"ps\", \"raw\", \"svg\", \"tif\"];\n\nmpl.default_extension = \"png\";var comm_websocket_adapter = function(comm) {\n    // Create a \"websocket\"-like object which calls the given IPython comm\n    // object with the appropriate methods. Currently this is a non binary\n    // socket, so there is still some room for performance tuning.\n    var ws = {};\n\n    ws.close = function() {\n        comm.close()\n    };\n    ws.send = function(m) {\n        //console.log('sending', m);\n        comm.send(m);\n    };\n    // Register the callback with on_msg.\n    comm.on_msg(function(msg) {\n        //console.log('receiving', msg['content']['data'], msg);\n        // Pass the mpl event to the overriden (by mpl) onmessage function.\n        ws.onmessage(msg['content']['data'])\n    });\n    return ws;\n}\n\nmpl.mpl_figure_comm = function(comm, msg) {\n    // This is the function which gets called when the mpl process\n    // starts-up an IPython Comm through the \"matplotlib\" channel.\n\n    var id = msg.content.data.id;\n    // Get hold of the div created by the display call when the Comm\n    // socket was opened in Python.\n    var element = $(\"#\" + id);\n    var ws_proxy = comm_websocket_adapter(comm)\n\n    function ondownload(figure, format) {\n        window.open(figure.imageObj.src);\n    }\n\n    var fig = new mpl.figure(id, ws_proxy,\n                           ondownload,\n                           element.get(0));\n\n    // Call onopen now - mpl needs it, as it is assuming we've passed it a real\n    // web socket which is closed, not our websocket->open comm proxy.\n    ws_proxy.onopen();\n\n    fig.parent_element = element.get(0);\n    fig.cell_info = mpl.find_output_cell(\"<div id='\" + id + \"'></div>\");\n    if (!fig.cell_info) {\n        console.error(\"Failed to find cell for figure\", id, fig);\n        return;\n    }\n\n    var output_index = fig.cell_info[2]\n    var cell = fig.cell_info[0];\n\n};\n\nmpl.figure.prototype.handle_close = function(fig, msg) {\n    var width = fig.canvas.width/mpl.ratio\n    fig.root.unbind('remove')\n\n    // Update the output cell to use the data from the current canvas.\n    fig.push_to_output();\n    var dataURL = fig.canvas.toDataURL();\n    // Re-enable the keyboard manager in IPython - without this line, in FF,\n    // the notebook keyboard shortcuts fail.\n    IPython.keyboard_manager.enable()\n    $(fig.parent_element).html('<img src=\"' + dataURL + '\" width=\"' + width + '\">');\n    fig.close_ws(fig, msg);\n}\n\nmpl.figure.prototype.close_ws = function(fig, msg){\n    fig.send_message('closing', msg);\n    // fig.ws.close()\n}\n\nmpl.figure.prototype.push_to_output = function(remove_interactive) {\n    // Turn the data on the canvas into data in the output cell.\n    var width = this.canvas.width/mpl.ratio\n    var dataURL = this.canvas.toDataURL();\n    this.cell_info[1]['text/html'] = '<img src=\"' + dataURL + '\" width=\"' + width + '\">';\n}\n\nmpl.figure.prototype.updated_canvas_event = function() {\n    // Tell IPython that the notebook contents must change.\n    IPython.notebook.set_dirty(true);\n    this.send_message(\"ack\", {});\n    var fig = this;\n    // Wait a second, then push the new image to the DOM so\n    // that it is saved nicely (might be nice to debounce this).\n    setTimeout(function () { fig.push_to_output() }, 1000);\n}\n\nmpl.figure.prototype._init_toolbar = function() {\n    var fig = this;\n\n    var nav_element = $('<div/>')\n    nav_element.attr('style', 'width: 100%');\n    this.root.append(nav_element);\n\n    // Define a callback function for later on.\n    function toolbar_event(event) {\n        return fig.toolbar_button_onclick(event['data']);\n    }\n    function toolbar_mouse_event(event) {\n        return fig.toolbar_button_onmouseover(event['data']);\n    }\n\n    for(var toolbar_ind in mpl.toolbar_items){\n        var name = mpl.toolbar_items[toolbar_ind][0];\n        var tooltip = mpl.toolbar_items[toolbar_ind][1];\n        var image = mpl.toolbar_items[toolbar_ind][2];\n        var method_name = mpl.toolbar_items[toolbar_ind][3];\n\n        if (!name) { continue; };\n\n        var button = $('<button class=\"btn btn-default\" href=\"#\" title=\"' + name + '\"><i class=\"fa ' + image + ' fa-lg\"></i></button>');\n        button.click(method_name, toolbar_event);\n        button.mouseover(tooltip, toolbar_mouse_event);\n        nav_element.append(button);\n    }\n\n    // Add the status bar.\n    var status_bar = $('<span class=\"mpl-message\" style=\"text-align:right; float: right;\"/>');\n    nav_element.append(status_bar);\n    this.message = status_bar[0];\n\n    // Add the close button to the window.\n    var buttongrp = $('<div class=\"btn-group inline pull-right\"></div>');\n    var button = $('<button class=\"btn btn-mini btn-primary\" href=\"#\" title=\"Stop Interaction\"><i class=\"fa fa-power-off icon-remove icon-large\"></i></button>');\n    button.click(function (evt) { fig.handle_close(fig, {}); } );\n    button.mouseover('Stop Interaction', toolbar_mouse_event);\n    buttongrp.append(button);\n    var titlebar = this.root.find($('.ui-dialog-titlebar'));\n    titlebar.prepend(buttongrp);\n}\n\nmpl.figure.prototype._root_extra_style = function(el){\n    var fig = this\n    el.on(\"remove\", function(){\n\tfig.close_ws(fig, {});\n    });\n}\n\nmpl.figure.prototype._canvas_extra_style = function(el){\n    // this is important to make the div 'focusable\n    el.attr('tabindex', 0)\n    // reach out to IPython and tell the keyboard manager to turn it's self\n    // off when our div gets focus\n\n    // location in version 3\n    if (IPython.notebook.keyboard_manager) {\n        IPython.notebook.keyboard_manager.register_events(el);\n    }\n    else {\n        // location in version 2\n        IPython.keyboard_manager.register_events(el);\n    }\n\n}\n\nmpl.figure.prototype._key_event_extra = function(event, name) {\n    var manager = IPython.notebook.keyboard_manager;\n    if (!manager)\n        manager = IPython.keyboard_manager;\n\n    // Check for shift+enter\n    if (event.shiftKey && event.which == 13) {\n        this.canvas_div.blur();\n        event.shiftKey = false;\n        // Send a \"J\" for go to next cell\n        event.which = 74;\n        event.keyCode = 74;\n        manager.command_mode();\n        manager.handle_keydown(event);\n    }\n}\n\nmpl.figure.prototype.handle_save = function(fig, msg) {\n    fig.ondownload(fig, null);\n}\n\n\nmpl.find_output_cell = function(html_output) {\n    // Return the cell and output element which can be found *uniquely* in the notebook.\n    // Note - this is a bit hacky, but it is done because the \"notebook_saving.Notebook\"\n    // IPython event is triggered only after the cells have been serialised, which for\n    // our purposes (turning an active figure into a static one), is too late.\n    var cells = IPython.notebook.get_cells();\n    var ncells = cells.length;\n    for (var i=0; i<ncells; i++) {\n        var cell = cells[i];\n        if (cell.cell_type === 'code'){\n            for (var j=0; j<cell.output_area.outputs.length; j++) {\n                var data = cell.output_area.outputs[j];\n                if (data.data) {\n                    // IPython >= 3 moved mimebundle to data attribute of output\n                    data = data.data;\n                }\n                if (data['text/html'] == html_output) {\n                    return [cell, data, j];\n                }\n            }\n        }\n    }\n}\n\n// Register the function which deals with the matplotlib target/channel.\n// The kernel may be null if the page has been refreshed.\nif (IPython.notebook.kernel != null) {\n    IPython.notebook.kernel.comm_manager.register_target('matplotlib', mpl.mpl_figure_comm);\n}\n",
      "text/plain": [
       "<IPython.core.display.Javascript object>"
      ]
     },
     "metadata": {},
     "output_type": "display_data"
    },
    {
     "data": {
      "text/html": [
       "<img src=\"data:image/png;base64,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\" width=\"640\">"
      ],
      "text/plain": [
       "<IPython.core.display.HTML object>"
      ]
     },
     "metadata": {},
     "output_type": "display_data"
    },
    {
     "name": "stdout",
     "output_type": "stream",
     "text": [
      "Plaga detectada! Enviando correo...\n",
      "Enviado!\n",
      "Fin del día... Generando resumen...\n",
      "Enviando correo...\n",
      "Enviado!\n",
      "Hasta luego!\n"
     ]
    }
   ],
   "source": [
    "%matplotlib notebook\n",
    "\n",
    "count = 0\n",
    "client = conexion_mqtt()\n",
    "\n",
    "sec = 0\n",
    "fig, axis = plt.subplots(1, 2)\n",
    "\n",
    "start = time.time()\n",
    "count_day = 0\n",
    "\n",
    "list_sec = []\n",
    "list_light = []\n",
    "list_temp = []\n",
    "list_moist = []\n",
    "list_level = []\n",
    "\n",
    "while base.switches[0].read()==1:\n",
    "    sec+=1\n",
    "    \n",
    "    temperature = round(temp_sensor.get_temperature()- 23, 2) \n",
    "    moisture = water_sensor.is_dry()\n",
    "    light = round(light_sensor.get_intensity(), 2)\n",
    "    \n",
    "    list_sec.append(sec)\n",
    "    list_temp.append(temperature)\n",
    "    list_light.append(light)\n",
    "    list_moist.append(int(moisture))\n",
    "\n",
    "    #LED\n",
    "    level = level_conditions_winter(temperature, moisture)\n",
    "    list_level.append(level)\n",
    "    led_meter(level)\n",
    "    \n",
    "    #Buzzer\n",
    "    #enable_buzzer(level)\n",
    "\n",
    "    #SERVO\n",
    "    sec,count,count_day = open_servo(temperature, sec,count,count_day,moisture, light)\n",
    "    \n",
    "    #Detección de enfermedades e-mail\n",
    "    if count == 0:\n",
    "        path1 = \"./fotos/enfermas/6f27be21b8229911b9075e4bb7576473.png\"\n",
    "        path2 = \"./fotos/enfermas/08b287a26fecf5b35d4db593f1f5674c.png\"\n",
    "        porcentaje, count = plant_disease_detection(path1, path2, count)\n",
    "        email_disease(porcentaje, path1)\n",
    "    \n",
    "    #MQTT\n",
    "    #Temperatura\n",
    "    mqg_temperatura = json.dumps({\"temperatura\":temperature})\n",
    "    client.publish(\"pynq_iot_temperatura\", mqg_temperatura, qos=0, retain=False)\n",
    "    client.loop()\n",
    "    \n",
    "    #Luz\n",
    "    mqg_luz = json.dumps({\"luz\":light})\n",
    "    client.publish(\"pynq_iot_luz\", mqg_luz, qos=0, retain=False)\n",
    "    client.loop()\n",
    "    \n",
    "    #Agua\n",
    "    if moisture == True:\n",
    "        texto_agua = \"Seco\"\n",
    "    else:\n",
    "        texto_agua = \"Mojado\"\n",
    "    mqg_agua = json.dumps({\"agua\":texto_agua})\n",
    "    client.publish(\"pynq_iot_agua\", mqg_agua, qos=0, retain=False)\n",
    "    client.loop()\n",
    "    \n",
    "    #Level\n",
    "    mqg_level = json.dumps({\"level\":level})\n",
    "    client.publish(\"pynq_iot_level\", mqg_level, qos=0, retain=False)\n",
    "    client.loop()\n",
    "    \n",
    "    #Gráficas\n",
    "    graphics(fig, axis, sec, list_sec, temperature, list_temp, light, list_light)\n",
    "    \n",
    "    #Correo final\n",
    "    actual = time.time()\n",
    "    if actual-start > 80 and count_day == 0:\n",
    "        count_day = email_summary(count_day)\n",
    "        \n",
    "    \n",
    "    sleep(1)\n",
    "    \n",
    "\n",
    "led_stick.clear()\n",
    "client.disconnect()\n",
    "print(\"Hasta luego!\")"
   ]
  },
  {
   "cell_type": "markdown",
   "metadata": {},
   "source": [
    "Copyright (C) 2021 Xilinx, Inc\n",
    "\n",
    "SPDX-License-Identifier: BSD-3-Clause"
   ]
  },
  {
   "cell_type": "markdown",
   "metadata": {},
   "source": [
    "----"
   ]
  },
  {
   "cell_type": "markdown",
   "metadata": {},
   "source": [
    "----"
   ]
  }
 ],
 "metadata": {
  "kernelspec": {
   "display_name": "Python 3",
   "language": "python",
   "name": "python3"
  },
  "language_info": {
   "codemirror_mode": {
    "name": "ipython",
    "version": 3
   },
   "file_extension": ".py",
   "mimetype": "text/x-python",
   "name": "python",
   "nbconvert_exporter": "python",
   "pygments_lexer": "ipython3",
   "version": "3.6.5"
  }
 },
 "nbformat": 4,
 "nbformat_minor": 4
}
